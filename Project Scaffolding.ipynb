{
 "cells": [
  {
   "cell_type": "markdown",
   "id": "32f8ca24",
   "metadata": {},
   "source": [
    "# Understanding Hired Rides in NYC\n",
    "\n",
    "_[Project prompt](https://docs.google.com/document/d/1VERPjEZcC1XSs4-02aM-DbkNr_yaJVbFjLJxaYQswqA/edit#)_\n",
    "\n",
    "_This scaffolding notebook may be used to help setup your final project. It's **totally optional** whether you make use of this or not._\n",
    "\n",
    "_If you do use this notebook, everything provided is optional as well - you may remove or add prose and code as you wish._\n",
    "\n",
    "_Anything in italics (prose) or comments (in code) is meant to provide you with guidance. **Remove the italic lines and provided comments** before submitting the project, if you choose to use this scaffolding. We don't need the guidance when grading._\n",
    "\n",
    "_**All code below should be consider \"pseudo-code\" - not functional by itself, and only a suggestion at the approach.**_"
   ]
  },
  {
   "cell_type": "markdown",
   "id": "25627e8d",
   "metadata": {},
   "source": [
    "## Requirements\n",
    "\n",
    "_A checklist of requirements to keep you on track. Remove this whole cell before submitting the project._\n",
    "\n",
    "* Code clarity: make sure the code conforms to:\n",
    "    * [ ] [PEP 8](https://peps.python.org/pep-0008/) - You might find [this resource](https://realpython.com/python-pep8/) helpful as well as [this](https://github.com/dnanhkhoa/nb_black) or [this](https://jupyterlab-code-formatter.readthedocs.io/en/latest/) tool\n",
    "    * [ ] [PEP 257](https://peps.python.org/pep-0257/)\n",
    "    * [ ] Break each task down into logical functions\n",
    "* The following files are submitted for the project (see the project's GDoc for more details):\n",
    "    * [ ] `README.md`\n",
    "    * [ ] `requirements.txt`\n",
    "    * [ ] `.gitignore`\n",
    "    * [ ] `schema.sql`\n",
    "    * [ ] 6 query files (using the `.sql` extension), appropriately named for the purpose of the query\n",
    "    * [x] Jupyter Notebook containing the project (this file!)\n",
    "* [x] You can edit this cell and add a `x` inside the `[ ]` like this task to denote a completed task"
   ]
  },
  {
   "cell_type": "markdown",
   "id": "2f75fd94",
   "metadata": {},
   "source": [
    "## Project Setup"
   ]
  },
  {
   "cell_type": "code",
   "execution_count": null,
   "id": "66dcde05",
   "metadata": {},
   "outputs": [],
   "source": [
    "# all import statements needed for the project, for example:\n",
    "\n",
    "import math\n",
    "\n",
    "import bs4\n",
    "import matplotlib.pyplot as plt\n",
    "import pandas as pd\n",
    "import requests\n",
    "import sqlalchemy as db"
   ]
  },
  {
   "cell_type": "code",
   "execution_count": 2,
   "id": "8b622a58",
   "metadata": {},
   "outputs": [],
   "source": [
    "# any general notebook setup, like log formatting"
   ]
  },
  {
   "cell_type": "code",
   "execution_count": 9,
   "id": "3f1242c4",
   "metadata": {},
   "outputs": [],
   "source": [
    "# any constants you might need, for example:\n",
    "\n",
    "TAXI_URL = \"https://www1.nyc.gov/site/tlc/about/tlc-trip-record-data.page\"\n",
    "# add other constants to refer to any local data, e.g. uber & weather\n",
    "UBER_CSV = \"uber_rides_sample.csv\"\n",
    "\n",
    "NEW_YORK_BOX_COORDS = ((40.560445, -74.242330), (40.908524, -73.717047))\n",
    "\n",
    "DATABASE_URL = \"sqlite:///project.db\"\n",
    "DATABASE_SCHEMA_FILE = \"schema.sql\"\n",
    "QUERY_DIRECTORY = \"queries\""
   ]
  },
  {
   "cell_type": "markdown",
   "id": "26ad10ea",
   "metadata": {},
   "source": [
    "## Part 1: Data Preprocessing"
   ]
  },
  {
   "cell_type": "markdown",
   "id": "ecf38168",
   "metadata": {},
   "source": [
    "_A checklist of requirements to keep you on track. Remove this whole cell before submitting the project. The order of these tasks aren't necessarily the order in which they need to be done. It's okay to do them in an order that makes sense to you._\n",
    "\n",
    "* [ ] Define a function that calculates the distance between two coordinates in kilometers that **only uses the `math` module** from the standard library.\n",
    "* [ ] Taxi data:\n",
    "    * [ ] Use the `re` module, and the packages `requests`, BeautifulSoup (`bs4`), and (optionally) `pandas` to programmatically download the required CSV files & load into memory.\n",
    "    * You may need to do this one file at a time - download, clean, sample. You can cache the sampling by saving it as a CSV file (and thereby freeing up memory on your computer) before moving onto the next file. \n",
    "* [ ] Weather & Uber data:\n",
    "    * [ ] Download the data manually in the link provided in the project doc.\n",
    "* [ ] All data:\n",
    "    * [ ] Load the data using `pandas`\n",
    "    * [ ] Clean the data, including:\n",
    "        * Remove unnecessary columns\n",
    "        * Remove invalid data points (take a moment to consider what's invalid)\n",
    "        * Normalize column names\n",
    "        * (Taxi & Uber data) Remove trips that start and/or end outside the designated [coordinate box](http://bboxfinder.com/#40.560445,-74.242330,40.908524,-73.717047)\n",
    "    * [ ] (Taxi data) Sample the data so that you have roughly the same amount of data points over the given date range for both Taxi data and Uber data.\n",
    "* [ ] Weather data:\n",
    "    * [ ] Split into two `pandas` DataFrames: one for required hourly data, and one for the required daily daya.\n",
    "    * [ ] You may find that the weather data you need later on does not exist at the frequency needed (daily vs hourly). You may calculate/generate samples from one to populate the other. Just document what you’re doing so we can follow along. "
   ]
  },
  {
   "cell_type": "markdown",
   "id": "32074561",
   "metadata": {},
   "source": [
    "### Calculating distance\n",
    "_**TODO:** Write some prose that tells the reader what you're about to do here._"
   ]
  },
  {
   "cell_type": "code",
   "execution_count": 4,
   "id": "4cbbe6cc",
   "metadata": {},
   "outputs": [],
   "source": [
    "from math import sin, cos, sqrt, atan2, radians\n",
    "def calculate_distance(from_coord, to_coord):\n",
    "    R = 6373.0\n",
    "\n",
    "    lat1 = radians(from_coord[1])\n",
    "    lon1 = radians(from_coord[0])\n",
    "    lat2 = radians(to_coord[1])\n",
    "    lon2 = radians(to_coord[0])\n",
    "\n",
    "    dlon = lon2 - lon1\n",
    "    dlat = lat2 - lat1\n",
    "\n",
    "    a = sin(dlat / 2)**2 + cos(lat1) * cos(lat2) * sin(dlon / 2)**2\n",
    "    c = 2 * atan2(sqrt(a), sqrt(1 - a))\n",
    "\n",
    "    distance = R * c\n",
    "    return distance"
   ]
  },
  {
   "cell_type": "code",
   "execution_count": null,
   "id": "6d6abf52",
   "metadata": {},
   "outputs": [],
   "source": [
    "def add_distance_column(dataframe):\n",
    "    dataframe['distance'] = dataframe.apply(\n",
    "        lambda x: calculate_distance([x['pickup_latitude'],x['pickup_longitude']],\n",
    "                                     [x['dropoff_latitude'],x['dropoff_longitude']]),\n",
    "        axis =1\n",
    "    )"
   ]
  },
  {
   "cell_type": "markdown",
   "id": "93daa717",
   "metadata": {},
   "source": [
    "### Processing Taxi Data\n",
    "\n",
    "_**TODO:** Write some prose that tells the reader what you're about to do here._"
   ]
  },
  {
   "cell_type": "code",
   "execution_count": 7,
   "id": "cbd0d198",
   "metadata": {},
   "outputs": [],
   "source": [
    "\n",
    "import re\n",
    "\n",
    "pattern = r\"yellow_tripdata_201([0-4]{1})|yellow_tripdata_2009|yellow_tripdata_2015-0([1-6]{1})\"\n",
    "\n",
    "def get_taxi_html():\n",
    "    response = requests.get(TAXI_URL)\n",
    "    html = response.content\n",
    "    return html\n",
    "\n",
    "def find_taxi_csv_urls():\n",
    "    soup = bs4.BeautifulSoup(get_taxi_html(), \"html.parser\")\n",
    "    link_list = [a['href'] for a in soup.find_all('a')]\n",
    "    new_link = []\n",
    "    for item in link_list:\n",
    "        match = re.findall(pattern,item)\n",
    "        if len(match)>0 :\n",
    "            new_link.append(item)\n",
    "    return new_link"
   ]
  },
  {
   "cell_type": "code",
   "execution_count": null,
   "id": "5c25a02c",
   "metadata": {},
   "outputs": [],
   "source": [
    "import geopandas as gpd\n",
    "from glob import glob\n",
    "\n",
    "#create the dataframe that converting pickup ID to lat/lon\n",
    "taxi_zones = gpd.read_file(\"/Users/yzh/Documents/GitHub/taxi-cab-project/taxi_zones.shp\")\n",
    "taxi_zones = taxi_zones.to_crs(4326)\n",
    "taxi_zones['Lon'] = taxi_zones.centroid.x\n",
    "taxi_zones['Lat'] = taxi_zones.centroid.y\n",
    "taxi_zones.drop(columns = \"geometry\", axis = 1,inplace = True)\n",
    "taxi_zones = taxi_zones[['LocationID', 'Lon', 'Lat']]\n",
    "taxi_zones_PU = taxi_zones\n",
    "taxi_zones_PU.columns = ['PULocationID','pickup_longitude','pickup_latitude']"
   ]
  },
  {
   "cell_type": "code",
   "execution_count": null,
   "id": "4199119b",
   "metadata": {},
   "outputs": [],
   "source": [
    "#create the dataframe that converting dropoff ID to lat/lon\n",
    "taxi_zones2 = gpd.read_file(\"/Users/yzh/Documents/GitHub/taxi-cab-project/taxi_zones.shp\")\n",
    "taxi_zones2 = taxi_zones2.to_crs(4326)\n",
    "taxi_zones2['Lon'] = taxi_zones2.centroid.x\n",
    "taxi_zones2['Lat'] = taxi_zones2.centroid.y\n",
    "taxi_zones2.drop(columns = \"geometry\", axis = 1,inplace = True)\n",
    "taxi_zones2 = taxi_zones2[['LocationID', 'Lon', 'Lat']]\n",
    "taxi_zones_DO = taxi_zones2\n",
    "taxi_zones_DO.columns = ['DOLocationID','dropoff_longitude','dropoff_latitude']"
   ]
  },
  {
   "cell_type": "code",
   "execution_count": null,
   "id": "9bd9e34f",
   "metadata": {},
   "outputs": [],
   "source": [
    "def lat_long(df):\n",
    "    idx_start = df.index[(df['pickup_latitude'] < 40.560445) | (df['pickup_longitude'] < -74.242330)].tolist()\n",
    "    idx_end   = df.index[(df['dropoff_latitude'] > 40.908524) | (df['dropoff_longitude'] > -73.717047)].tolist()\n",
    "\n",
    "  # Remove duplicate elemets\n",
    "    idx_final = set(idx_start + idx_end)\n",
    "\n",
    "  # Drop elements\n",
    "    df.drop(idx_final, inplace=True)\n",
    "    df = df.reset_index(drop=True)\n",
    "    return df\n",
    "\n",
    "def get_and_clean_month_taxi_data(url):\n",
    "    data = requests.get(url).content\n",
    "    name = url.rsplit(\"/\",1)[-1]\n",
    "    with open(name, 'wb') as f:\n",
    "        f.write(data)\n",
    "    df = pd.read_parquet(name)\n",
    "    df = df.sample(frac=0.0002, replace=True, random_state=1)\n",
    "    \n",
    "    if \"pickup_datetime\" in df:\n",
    "        #normalize the column name\n",
    "        df.rename(columns = {\"tip_amount\":\"Tip_Amt\"}, inplace = True)\n",
    "        \n",
    "        #select the columns we need\n",
    "        df=df[['pickup_datetime','dropoff_datetime','fare_amount','pickup_longitude','pickup_latitude','dropoff_longitude',\n",
    "               'dropoff_latitude','passenger_count','Tip_Amt']]\n",
    "        df = df[df['passenger_count'] != 0]\n",
    "\n",
    "        #filter trips with no fare\n",
    "        df = df[df['fare_amount'] != 0]\n",
    "\n",
    "        #filter trips with no distance between pickup and dropoff points\n",
    "        df = df[(df['pickup_longitude'] != df['dropoff_longitude']) | \n",
    "                (df['pickup_longitude'] != df['dropoff_longitude'])]\n",
    "\n",
    "        #remove unnecessary columns\n",
    "        df=lat_long(df)\n",
    "            \n",
    "        #convert pickup and dropoff times to right type\n",
    "        df['pickup_datetime'] = pd.to_datetime(df['pickup_datetime'])\n",
    "        df['dropoff_datetime'] = pd.to_datetime(df['dropoff_datetime'])\n",
    "        return df\n",
    "        \n",
    "    #the second pattern\n",
    "    if \"Start_Lon\" in df:\n",
    "        df.rename(columns = {'Start_Lon':'pickup_longitude', 'Start_Lat':'pickup_latitude','End_Lon':'dropoff_longitude',\n",
    "                            'End_Lat':'dropoff_latitude',\"Trip_Pickup_DateTime\":\"pickup_datetime\",\n",
    "                            'Trip_Dropoff_DateTime':'dropoff_datetime','Passenger_Count':'passenger_count',\n",
    "                            'Fare_Amt':'fare_amount'}, inplace = True)\n",
    "        #keeping columns we want\n",
    "        df=df[['pickup_datetime','dropoff_datetime','fare_amount','pickup_longitude','pickup_latitude','dropoff_longitude',\n",
    "                        'dropoff_latitude','passenger_count','Tip_Amt']]\n",
    "           \n",
    "        #filter trips with zero passenger_count\n",
    "        df = df[df['passenger_count'] != 0]\n",
    "\n",
    "        #filter trips with no fare\n",
    "        df = df[df['fare_amount'] != 0]\n",
    "\n",
    "        #filter trips with no distance between pickup and dropoff points\n",
    "        df = df[(df['pickup_longitude'] != df['dropoff_longitude']) | \n",
    "                    (df['pickup_longitude'] != df['dropoff_longitude'])]\n",
    "\n",
    "        #remove unnecessary columns\n",
    "        df=lat_long(df)\n",
    "            \n",
    "        #convert pickup and dropoff times to right type\n",
    "        df['pickup_datetime'] = pd.to_datetime(df['pickup_datetime'])\n",
    "        df['dropoff_datetime'] = pd.to_datetime(df['dropoff_datetime'])\n",
    "        return df\n",
    "\n",
    "    #third pattern\n",
    "    #first we convert locationid to the latitudes and longitudes\n",
    "    if \"PULocationID\" in df:\n",
    "        df = pd.merge(df, taxi_zones_PU, how='left', on=['PULocationID'])\n",
    "        df = pd.merge(df, taxi_zones_DO, how='left', on=['DOLocationID'])           \n",
    "        \n",
    "        #normalize the column name\n",
    "        df.rename(columns = {\"tip_amount\":\"Tip_Amt\",\"tpep_pickup_datetime\":\"pickup_datetime\", 'tpep_dropoff_datetime':'dropoff_datetime'}, inplace = True)\n",
    "        \n",
    "        #keeping columns we want\n",
    "        df=df[['pickup_datetime','dropoff_datetime','fare_amount','pickup_longitude','pickup_latitude','dropoff_longitude',\n",
    "                        'dropoff_latitude','passenger_count','Tip_Amt']]\n",
    "        #filter trips with zero passenger_count\n",
    "        df = df[df['passenger_count'] != 0]\n",
    "\n",
    "        #filter trips with no fare\n",
    "        df = df[df['fare_amount'] != 0]\n",
    "\n",
    "        #filter trips with no distance between pickup and dropoff points\n",
    "        df = df[(df['pickup_longitude'] != df['dropoff_longitude']) | \n",
    "                (df['pickup_longitude'] != df['dropoff_longitude'])]\n",
    "\n",
    "        #remove trips not in coordinate box by calling functions\n",
    "        df=lat_long(df)\n",
    "            \n",
    "        #convert pickup and dropoff times to right type\n",
    "        df['pickup_datetime'] = pd.to_datetime(df['pickup_datetime'])\n",
    "        df['dropoff_datetime'] = pd.to_datetime(df['dropoff_datetime'])\n",
    "        return df "
   ]
  },
  {
   "cell_type": "code",
   "execution_count": null,
   "id": "31afb116",
   "metadata": {},
   "outputs": [],
   "source": [
    "def get_and_clean_taxi_data():\n",
    "    all_taxi_dataframes = []\n",
    "    \n",
    "    all_csv_urls = find_taxi_csv_urls()\n",
    "    for csv_url in all_csv_urls:\n",
    "        # maybe: first try to see if you've downloaded this exact\n",
    "        # file already and saved it before trying again\n",
    "        dataframe = get_and_clean_month_taxi_data(csv_url)\n",
    "        add_distance_column(dataframe)\n",
    "        # maybe: if the file hasn't been saved, save it so you can\n",
    "        # avoid re-downloading it if you re-run the function\n",
    "        \n",
    "        all_taxi_dataframes.append(dataframe)\n",
    "        \n",
    "    # create one gigantic dataframe with data from every month needed\n",
    "    taxi_data = pd.concat(all_taxi_dataframes)\n",
    "    return taxi_data"
   ]
  },
  {
   "cell_type": "markdown",
   "id": "094b4d6d",
   "metadata": {},
   "source": [
    "### Processing Uber Data\n",
    "\n",
    "_**TODO:** Write some prose that tells the reader what you're about to do here._"
   ]
  },
  {
   "cell_type": "code",
   "execution_count": 10,
   "id": "7c58e3a2",
   "metadata": {},
   "outputs": [],
   "source": [
    "def load_and_clean_uber_data(csv_file):\n",
    "    \n",
    "    #load csv file\n",
    "    df = pd.read_csv(csv_file)\n",
    "    \n",
    "    #filter longitude\n",
    "    df = df[(df['pickup_longitude'] <= -73.717047) & (df['dropoff_longitude'] <= -73.717047) & \n",
    "            (df['pickup_longitude'] >= -74.242330) & (df['dropoff_longitude'] >= -74.242330)]\n",
    "    \n",
    "    #filter latitude\n",
    "    df = df[(df['pickup_latitude'] <= 40.908524) & (df['dropoff_latitude'] <= 40.908524) & \n",
    "            (df['pickup_latitude'] >= 40.560445) & (df['dropoff_latitude'] >= 40.560445)]\n",
    "    \n",
    "    #filter trips with zero passenger_count\n",
    "    df = df[df['passenger_count'] != 0]\n",
    "    \n",
    "    #filter trips with no fare\n",
    "    df = df[df['fare_amount'] != 0]\n",
    "    \n",
    "    #filter trips with no distance between pickup and dropoff points\n",
    "    df = df[(df['pickup_longitude'] != df['dropoff_longitude']) | \n",
    "            (df['pickup_longitude'] != df['dropoff_longitude'])]\n",
    "    \n",
    "    #remove unnecessary columns\n",
    "    df = df.drop(['Unnamed: 0','key'], axis=1)\n",
    "\n",
    "    #change pickup_datetime from object type to datetime time\n",
    "    df['pickup_datetime'] = df['pickup_datetime'].str.split(' ', n=2,expand=True)[1]\n",
    "    df['pickup_datetime'] = pd.to_datetime(df['pickup_datetime'])\n",
    "\n",
    "    return df"
   ]
  },
  {
   "cell_type": "code",
   "execution_count": null,
   "id": "f836f118",
   "metadata": {},
   "outputs": [],
   "source": [
    "UBER_DATA = \"Downloads/uber_rides_sample.csv\"\n",
    "def get_uber_data():\n",
    "    uber_dataframe = load_and_clean_uber_data(UBER_DATA)\n",
    "    add_distance_column(uber_dataframe)\n",
    "    return uber_dataframe"
   ]
  },
  {
   "cell_type": "markdown",
   "id": "45a15cbb",
   "metadata": {},
   "source": [
    "### Processing Weather Data\n",
    "\n",
    "_**TODO:** Write some prose that tells the reader what you're about to do here._"
   ]
  },
  {
   "cell_type": "code",
   "execution_count": 11,
   "id": "76e864ab",
   "metadata": {},
   "outputs": [],
   "source": [
    "def clean_month_weather_data_hourly(csv_file):\n",
    "    #form the hourly weather data\n",
    "    df1 = csv_file[['DATE','HourlyPrecipitation','HourlyWindSpeed']]\n",
    "    \n",
    "    #change DATE from object type to datetime type\n",
    "    df1['DATE'] = pd.to_datetime(df1['DATE'])\n",
    "    \n",
    "    #drop na rows\n",
    "    df1 = df1[df1[['HourlyPrecipitation','HourlyWindSpeed']].notnull().any(axis=1)]\n",
    "    \n",
    "    return df1 "
   ]
  },
  {
   "cell_type": "code",
   "execution_count": null,
   "id": "0687581f",
   "metadata": {},
   "outputs": [],
   "source": [
    "def clean_month_weather_data_daily(csv_file):\n",
    "    #form the daily weather data\n",
    "    df2 = csv_file[['DATE','HourlyWindSpeed','DailyAverageWindSpeed', 'DailyPrecipitation', 'DailySustainedWindSpeed']]\n",
    "    \n",
    "    #change DATE from object type to datetime type\n",
    "    df2['DATE'] = pd.to_datetime(df2['DATE'])\n",
    "    \n",
    "    #Get missing DailyAverageWindSpeed on 2014-01-26 by calculating the mean HourlyWindSpeed on 2014-01-26\n",
    "    missing_day_df = df2[(df2['DATE'] > '2014-01-26') & (df2['DATE'] < '2014-01-27')]\n",
    "    mean = missing_day_df.HourlyWindSpeed.mean()\n",
    "    \n",
    "    #drop na rows\n",
    "    df2 = df2[df2[['DailyPrecipitation', 'DailyAverageWindSpeed', 'DailySustainedWindSpeed']].notnull().any(axis=1)]\n",
    "    df2 = df2[['DATE','DailyPrecipitation', 'DailyAverageWindSpeed', 'DailySustainedWindSpeed']]\n",
    "    \n",
    "    #Update the missing value\n",
    "    df2[\"DailyAverageWindSpeed\"].fillna(mean,inplace=True)\n",
    "    \n",
    "    return df2"
   ]
  },
  {
   "cell_type": "code",
   "execution_count": null,
   "id": "3ef8945d",
   "metadata": {},
   "outputs": [],
   "source": [
    "import glob,os\n",
    "\n",
    "def load_and_clean_weather_data():\n",
    "    hourly_dataframes = []\n",
    "    daily_dataframes = []\n",
    "    \n",
    "    # add some way to find all weather CSV files\n",
    "    # or just add the name/paths manually\n",
    "    path = r'Desktop/weather'\n",
    "    file = glob.glob(os.path.join(path, \"*.csv\"))\n",
    "    print(file)\n",
    "    weather_csv_files = []\n",
    "    for f in file:\n",
    "        weather_csv_files.append(pd.read_csv(f))\n",
    "    \n",
    "    for csv_file in weather_csv_files:\n",
    "        hourly_dataframe = clean_month_weather_data_hourly(csv_file)\n",
    "        daily_dataframe = clean_month_weather_data_daily(csv_file)\n",
    "        hourly_dataframes.append(hourly_dataframe)\n",
    "        daily_dataframes.append(daily_dataframe)\n",
    "        \n",
    "    # create two dataframes with hourly & daily data from every month\n",
    "    hourly_data = pd.concat(hourly_dataframes)\n",
    "    daily_data = pd.concat(daily_dataframes)\n",
    "    \n",
    "    return hourly_data, daily_data"
   ]
  },
  {
   "cell_type": "markdown",
   "id": "f900f7aa",
   "metadata": {},
   "source": [
    "### Process All Data\n",
    "\n",
    "_This is where you can actually execute all the required functions._\n",
    "\n",
    "_**TODO:** Write some prose that tells the reader what you're about to do here._"
   ]
  },
  {
   "cell_type": "code",
   "execution_count": null,
   "id": "f7cd53a6",
   "metadata": {},
   "outputs": [],
   "source": [
    "taxi_data = get_and_clean_taxi_data()\n",
    "uber_data = get_uber_data()\n",
    "hourly_data, daily_data = load_and_clean_weather_data()"
   ]
  },
  {
   "cell_type": "markdown",
   "id": "dd101f11",
   "metadata": {},
   "source": [
    "## Part 2: Storing Cleaned Data\n",
    "\n",
    "_Write some prose that tells the reader what you're about to do here._"
   ]
  },
  {
   "cell_type": "code",
   "execution_count": 14,
   "id": "f3529cf6",
   "metadata": {},
   "outputs": [],
   "source": [
    "engine = db.create_engine(DATABASE_URL)"
   ]
  },
  {
   "cell_type": "code",
   "execution_count": null,
   "id": "7f7e4167",
   "metadata": {},
   "outputs": [],
   "source": [
    "# if using SQL (as opposed to SQLAlchemy), define the commands \n",
    "# to create your 4 tables/dataframes\n",
    "HOURLY_WEATHER_SCHEMA = \"\"\"\n",
    "CREATE TABLE IF NOT EXISTS hourly_weather (\n",
    "   id INTEGER PRIMARY KEY,\n",
    "   date DATE,\n",
    "   hourly_precipitation FLOAT,\n",
    "   hourly_wind_speed FLOAT\n",
    ");\n",
    "\n",
    "\"\"\"\n",
    "\n",
    "DAILY_WEATHER_SCHEMA = \"\"\"\n",
    "CREATE TABLE IF NOT EXISTS daily_weather (\n",
    "   id INTEGER PRIMARY KEY,\n",
    "   date DATE,\n",
    "   daily_precipitation FLOAT,\n",
    "   daily_wind_speed FLOAT\n",
    ");\n",
    "\"\"\"\n",
    "\n",
    "TAXI_TRIPS_SCHEMA = \"\"\"\n",
    "CREATE TABLE IF NOT EXISTS taxi_trips (\n",
    "   id INTEGER PRIMARY KEY,\n",
    "   fare_amount FLOAT,\n",
    "   pickup_datetime DATE,\n",
    "   dropoff_datatime DATE,\n",
    "   pickup_longitude FLOAT,\n",
    "   pickup_latitude FLOAT,\n",
    "   dropoff_longitude FLOAT,\n",
    "   dropoff_latitude FLOAT,\n",
    "   passenger_count INTEGER,\n",
    "   Tip_Amout FLOAT,\n",
    "   distance FLOAT\n",
    ");\n",
    "\n",
    "\"\"\"\n",
    "\n",
    "UBER_TRIPS_SCHEMA = \"\"\"\n",
    "CREATE TABLE IF NOT EXISTS uber_trips (\n",
    "   id INTEGER PRIMARY KEY,\n",
    "   fare_amount FLOAT,\n",
    "   pickup_datetime DATE,\n",
    "   pickup_longitude FLOAT,\n",
    "   pickup_latitude FLOAT,\n",
    "   dropoff_longitude FLOAT,\n",
    "   dropoff_latitude FLOAT,\n",
    "   passenger_count INTEGER,\n",
    "   distance FLOAT\n",
    ");\n",
    "\"\"\""
   ]
  },
  {
   "cell_type": "code",
   "execution_count": null,
   "id": "5f41e54b",
   "metadata": {},
   "outputs": [],
   "source": [
    "# create that required schema.sql file\n",
    "with open(DATABASE_SCHEMA_FILE, \"w\") as f:\n",
    "    f.write(HOURLY_WEATHER_SCHEMA)\n",
    "    f.write(DAILY_WEATHER_SCHEMA)\n",
    "    f.write(TAXI_TRIPS_SCHEMA)\n",
    "    f.write(UBER_TRIPS_SCHEMA)"
   ]
  },
  {
   "cell_type": "code",
   "execution_count": 16,
   "id": "02eccdba",
   "metadata": {},
   "outputs": [],
   "source": [
    "# create the tables with the schema files\n",
    "with engine.connect() as connection:\n",
    "    pass"
   ]
  },
  {
   "cell_type": "markdown",
   "id": "c122964f",
   "metadata": {},
   "source": [
    "### Add Data to Database\n",
    "\n",
    "_**TODO:** Write some prose that tells the reader what you're about to do here._"
   ]
  },
  {
   "cell_type": "code",
   "execution_count": 17,
   "id": "0e68a363",
   "metadata": {},
   "outputs": [],
   "source": [
    "def write_dataframes_to_table(table_to_df_dict):\n",
    "    for key, value in table_to_df_dict.items():\n",
    "        value.to_sql(key, con=engine, if_exists = 'append')"
   ]
  },
  {
   "cell_type": "code",
   "execution_count": null,
   "id": "45d6c06c",
   "metadata": {},
   "outputs": [],
   "source": [
    "map_table_name_to_dataframe = {\n",
    "    \"taxi_trips\": taxi_data,\n",
    "    \"uber_trips\": uber_data,\n",
    "    \"hourly_weather\": hourly_data,\n",
    "    \"daily_weather\": daily_data,\n",
    "}"
   ]
  },
  {
   "cell_type": "code",
   "execution_count": null,
   "id": "74004f96",
   "metadata": {},
   "outputs": [],
   "source": [
    "write_dataframes_to_table(map_table_name_to_dataframe)"
   ]
  },
  {
   "cell_type": "markdown",
   "id": "8cb6e33e",
   "metadata": {},
   "source": [
    "## Part 3: Understanding the Data"
   ]
  },
  {
   "cell_type": "markdown",
   "id": "b4753fcd",
   "metadata": {},
   "source": [
    "_A checklist of requirements to keep you on track. Remove this whole cell before submitting the project. The order of these tasks aren't necessarily the order in which they need to be done. It's okay to do them in an order that makes sense to you._\n",
    "\n",
    "* [ ] For 01-2009 through 06-2015, what hour of the day was the most popular to take a yellow taxi? The result should have 24 bins.\n",
    "* [ ] For the same time frame, what day of the week was the most popular to take an uber? The result should have 7 bins.\n",
    "* [ ] What is the 95% percentile of distance traveled for all hired trips during July 2013?\n",
    "* [ ] What were the top 10 days with the highest number of hired rides for 2009, and what was the average distance for each day?\n",
    "* [ ] Which 10 days in 2014 were the windiest, and how many hired trips were made on those days?\n",
    "* [ ] During Hurricane Sandy in NYC (Oct 29-30, 2012) and the week leading up to it, how many trips were taken each hour, and for each hour, how much precipitation did NYC receive and what was the sustained wind speed?"
   ]
  },
  {
   "cell_type": "code",
   "execution_count": 18,
   "id": "6a849e92",
   "metadata": {},
   "outputs": [],
   "source": [
    "def write_query_to_file(query, outfile):\n",
    "    with open(outfile, \"w\") as f:\n",
    "        f.write(query)"
   ]
  },
  {
   "cell_type": "markdown",
   "id": "ee70a777",
   "metadata": {},
   "source": [
    "### Query N\n",
    "\n",
    "_**TODO:** Write some prose that tells the reader what you're about to do here._\n",
    "\n",
    "_Repeat for each query_"
   ]
  },
  {
   "cell_type": "code",
   "execution_count": null,
   "id": "db871d3c",
   "metadata": {},
   "outputs": [],
   "source": [
    "QUERY_1 = \"\"\"\n",
    "SELECT hour, COUNT(*) as num_trips\n",
    "FROM (\n",
    "  SELECT strftime('%H', pickup_datetime) as hour\n",
    "  FROM taxi_trips\n",
    ")\n",
    "GROUP BY hour\n",
    "ORDER BY num_trips DESC\n",
    "\"\"\""
   ]
  },
  {
   "cell_type": "code",
   "execution_count": null,
   "id": "8fc6b516",
   "metadata": {},
   "outputs": [],
   "source": [
    "QUERY_2 = \"\"\"\n",
    "SELECT wkday, COUNT(*) as num_trips\n",
    "FROM (\n",
    "  SELECT strftime('%w', pickup_datetime) as wkday\n",
    "  FROM uber_trips\n",
    ")\n",
    "GROUP BY wkday\n",
    "ORDER BY num_trips DESC\n",
    "\"\"\""
   ]
  },
  {
   "cell_type": "code",
   "execution_count": null,
   "id": "6e5d27fe",
   "metadata": {},
   "outputs": [],
   "source": [
    "QUERY_3 =  \"\"\"\n",
    "SELECT distance FROM(\n",
    "SELECT distance FROM taxi_trips\n",
    "UNION\n",
    "SELECT distance FROM uber_trips\n",
    ")\n",
    "LIMIT 1\n",
    "OFFSET(\n",
    "SELECT COUNT(*) FROM (\n",
    "SELECT distance FROM taxi_trips\n",
    "UNION\n",
    "SELECT distance FROM uber_trips\n",
    ")\n",
    ") * 95/100 - 1\n",
    "\"\"\""
   ]
  },
  {
   "cell_type": "code",
   "execution_count": null,
   "id": "24e7d783",
   "metadata": {},
   "outputs": [],
   "source": [
    "QUERY_4 = \"\"\" \n",
    "SELECT strftime('%Y-%m-%d', pickup_datetime), AVG(distance) as avg_distance\n",
    "FROM (\n",
    "  SELECT pickup_datetime, distance FROM taxi_trips \n",
    "  WHERE strftime('%Y', pickup_datetime) = '2009' \n",
    "  UNION ALL\n",
    "  SELECT pickup_datetime, distance FROM uber_trips \n",
    "  WHERE strftime('%Y', pickup_datetime) = '2009'\n",
    ")\n",
    "GROUP BY strftime('%Y-%m-%d', pickup_datetime)\n",
    "ORDER BY COUNT(*) DESC\n",
    "LIMIT 10\n",
    "\"\"\""
   ]
  },
  {
   "cell_type": "code",
   "execution_count": null,
   "id": "48e01db2",
   "metadata": {},
   "outputs": [],
   "source": [
    "QUERY_5 = \"\"\" \n",
    "SELECT strftime('%Y-%m-%d', pickup_datetime), COUNT(*) as num_trips\n",
    "FROM (\n",
    "  SELECT pickup_datetime FROM taxi_trips \n",
    "  WHERE strftime('%Y', pickup_datetime) = '2014' \n",
    "  UNION ALL\n",
    "  SELECT pickup_datetime FROM uber_trips \n",
    "  WHERE strftime('%Y', pickup_datetime) = '2014'\n",
    ")\n",
    "WHERE strftime('%Y-%m-%d', pickup_datetime) IN (\n",
    "  SELECT strftime('%Y-%m-%d', DATE) FROM daily_weather\n",
    "  WHERE strftime('%Y', DATE) = '2014'\n",
    "  ORDER BY DailyAverageWindSpeed DESC\n",
    ")\n",
    "GROUP BY strftime('%Y-%m-%d', pickup_datetime)\n",
    "ORDER BY COUNT(*) DESC\n",
    "LIMIT 10\n",
    "\"\"\""
   ]
  },
  {
   "cell_type": "code",
   "execution_count": null,
   "id": "13019353",
   "metadata": {},
   "outputs": [],
   "source": [
    "QUERY_6 = \"\"\" \n",
    "SELECT strftime('%Y-%m-%d %H', pickup_datetime) as hourtime, COUNT(*) as num_trips\n",
    "FROM (\n",
    "  SELECT pickup_datetime FROM taxi_trips \n",
    "  WHERE taxi_trips.pickup_datetime BETWEEN '2012-10-22' AND '2012-11-05' \n",
    "  UNION ALL\n",
    "  SELECT pickup_datetime FROM uber_trips \n",
    "  WHERE uber_trips.pickup_datetime BETWEEN '2012-10-22' AND '2012-11-05'\n",
    ")\n",
    "GROUP BY hourtime\n",
    "\"\"\""
   ]
  },
  {
   "cell_type": "code",
   "execution_count": null,
   "id": "c5275f3a",
   "metadata": {},
   "outputs": [],
   "source": [
    "engine.execute(QUERY_1).fetchall()\n",
    "engine.execute(QUERY_2).fetchall()\n",
    "engine.execute(QUERY_3).fetchall()\n",
    "engine.execute(QUERY_4).fetchall()\n",
    "engine.execute(QUERY_5).fetchall()\n",
    "engine.execute(QUERY_6).fetchall()"
   ]
  },
  {
   "cell_type": "code",
   "execution_count": null,
   "id": "a2ef04df",
   "metadata": {},
   "outputs": [],
   "source": [
    "write_query_to_file(QUERY_1, \"Most_popular_hour_yellow_taxi_200901_201506.sql\")\n",
    "write_query_to_file(QUERY_2, \"Most_popular_weekday_uber_200901_201506.sql\")\n",
    "write_query_to_file(QUERY_3, \"95_percentile_distance_all_201307.sql\")\n",
    "write_query_to_file(QUERY_4, \"Top10_highest_hired_day_with_avg_distance_2009.sql\")\n",
    "write_query_to_file(QUERY_5, \"Top10_windiest_day_with_hired_trips_count_2014.sql\")\n",
    "write_query_to_file(QUERY_6, \"Hurricane_Sandy_data.sql\")"
   ]
  },
  {
   "cell_type": "markdown",
   "id": "a13ced42",
   "metadata": {},
   "source": [
    "## Part 4: Visualizing the Data\n",
    "\n",
    "_A checklist of requirements to keep you on track. Remove this whole cell before submitting the project. The order of these tasks aren't necessarily the order in which they need to be done. It's okay to do them in an order that makes sense to you._\n",
    "\n",
    "* [ ] Create an appropriate visualization for the first query/question in part 3\n",
    "* [ ] Create a visualization that shows the average distance traveled per month (regardless of year - so group by each month). Include the 90% confidence interval around the mean in the visualization\n",
    "* [ ] Define three lat/long coordinate boxes around the three major New York airports: LGA, JFK, and EWR (you can use bboxfinder to help). Create a visualization that compares what day of the week was most popular for drop offs for each airport.\n",
    "* [ ] Create a heatmap of all hired trips over a map of the area. Consider using KeplerGL or another library that helps generate geospatial visualizations.\n",
    "* [ ] Create a scatter plot that compares tip amount versus distance.\n",
    "* [ ] Create another scatter plot that compares tip amount versus precipitation amount.\n",
    "\n",
    "_Be sure these cells are executed so that the visualizations are rendered when the notebook is submitted._"
   ]
  },
  {
   "cell_type": "markdown",
   "id": "6d9eef42",
   "metadata": {},
   "source": [
    "### Visualization N\n",
    "\n",
    "_**TODO:** Write some prose that tells the reader what you're about to do here._\n",
    "\n",
    "_Repeat for each visualization._\n",
    "\n",
    "_The example below makes use of the `matplotlib` library. There are other libraries, including `pandas` built-in plotting library, kepler for geospatial data representation, `seaborn`, and others._"
   ]
  },
  {
   "cell_type": "code",
   "execution_count": 19,
   "id": "0de8394c",
   "metadata": {},
   "outputs": [],
   "source": [
    "# use a more descriptive name for your function\n",
    "def plot_visual_n(dataframe):\n",
    "    figure, axes = plt.subplots(figsize=(20, 10))\n",
    "    \n",
    "    values = \"...\"  # use the dataframe to pull out values needed to plot\n",
    "    \n",
    "    # you may want to use matplotlib to plot your visualizations;\n",
    "    # there are also many other plot types (other \n",
    "    # than axes.plot) you can use\n",
    "    axes.plot(values, \"...\")\n",
    "    # there are other methods to use to label your axes, to style \n",
    "    # and set up axes labels, etc\n",
    "    axes.set_title(\"Some Descriptive Title\")\n",
    "    \n",
    "    plt.show()"
   ]
  },
  {
   "cell_type": "code",
   "execution_count": null,
   "id": "847ced2f",
   "metadata": {},
   "outputs": [],
   "source": [
    "def get_data_for_visual_n():\n",
    "    # Query SQL database for the data needed.\n",
    "    # You can put the data queried into a pandas dataframe, if you wish\n",
    "    raise NotImplemented()"
   ]
  },
  {
   "cell_type": "code",
   "execution_count": null,
   "id": "3c63e845",
   "metadata": {},
   "outputs": [],
   "source": [
    "some_dataframe = get_data_for_visual_n()\n",
    "plot_visual_n(some_dataframe)"
   ]
  }
 ],
 "metadata": {
  "kernelspec": {
   "display_name": "Python 3.9.12 ('base')",
   "language": "python",
   "name": "python3"
  },
  "language_info": {
   "codemirror_mode": {
    "name": "ipython",
    "version": 3
   },
   "file_extension": ".py",
   "mimetype": "text/x-python",
   "name": "python",
   "nbconvert_exporter": "python",
   "pygments_lexer": "ipython3",
   "version": "3.9.12"
  },
  "vscode": {
   "interpreter": {
    "hash": "d54b48331d607517627292df9e2160ac1e5df3fba116c8c1dd156b3b71ccf6a1"
   }
  }
 },
 "nbformat": 4,
 "nbformat_minor": 5
}
